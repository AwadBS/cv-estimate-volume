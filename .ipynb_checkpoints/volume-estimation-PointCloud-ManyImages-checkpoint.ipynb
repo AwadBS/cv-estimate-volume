{
 "cells": [
  {
   "cell_type": "markdown",
   "metadata": {},
   "source": [
    "# Goal: Estimate Volume of an Object\n",
    "\n",
    "This is programming project aims to estimate the volume of an object using stereo vision. The procedure is described on page 67 of the document below, as well as this write up. \n",
    "Some parts of the code is recycled from previous projects.\n",
    "\n",
    "https://carlos-hernandez.org/papers/fnt_mvs_2015.pdf\n",
    "\n",
    "\"First, implementing stereo rectification is a great idea and builds off of the work we did in class, so it's a great target. I don't think Blender will generate radial distortion, \n",
    "so I don't expect that you'll need to model that effect (though I could be wrong).\n",
    "\n",
    "\n",
    "\n",
    "Second, the NCC depth map technique we impemented in class, so (while interesting) is not going to count for much in your \"implementation\" section.\n",
    "\n",
    "\n",
    "\n",
    "If your images are coming from Blender, you should not need to compute any segmentation: you can make the background transparent and use that to mask you image. \n",
    "To compute the volume of the object, you will probably want to look into one of the multi-view stereo applications that I discussed in class and try implementing that, \n",
    "since the described procedure is not generally capable of giving you volume (you need to combine the 2D projections somehow, which it does not seem that you are doing).\n",
    "\n",
    "\n",
    "\n",
    "The LK optical flow algorithm seems like a good alternative plan; so pick whichever you would like. There are also a few open source datasets for optical flow if you'd like \n",
    "to use those: https://vision.middlebury.edu/flow/data/\""
   ]
  },
  {
   "cell_type": "code",
   "execution_count": 1,
   "metadata": {},
   "outputs": [],
   "source": [
    "# Starter code (run this first)\n",
    "import cv2 as cv\n",
    "import matplotlib.pyplot as plt\n",
    "import numpy as np\n",
    "from PIL import Image, ImageOps\n",
    "import os\n"
   ]
  },
  {
   "cell_type": "code",
   "execution_count": 2,
   "metadata": {},
   "outputs": [],
   "source": [
    "def load_image(filepath):\n",
    "    \"\"\"Loads an image into a numpy array.\n",
    "    Note: image will have 3 color channels [r, g, b].\"\"\"\n",
    "    img = np.float32(Image.open(filepath))\n",
    "    #img = ImageOps.grayscale(img)\n",
    "    return cv.normalize(img, None, 0, 255, cv.NORM_MINMAX).astype('uint8')\n",
    "    #return (np.asarray(img).astype('uint8')/255)[:, :, :3]"
   ]
  },
  {
   "cell_type": "markdown",
   "metadata": {},
   "source": [
    "### 1.1 Initial Feature Matching\n",
    "We need to detect blob and corner features\n",
    "in each image using the Difference-of-Gaussian (DoG) and Harris operators. (p.68)"
   ]
  },
  {
   "cell_type": "code",
   "execution_count": 3,
   "metadata": {},
   "outputs": [],
   "source": [
    "sift = cv.SIFT_create() # sift detector uses difference of gaussian for feature detection\n",
    "\n",
    "# get feature matches between two images using SIFT\n",
    "def get_point_matches(img1, img2):\n",
    "    \"\"\"Returns matches as array: (feature track, image, coord)\"\"\"\n",
    "\n",
    "    # find the keypoints and descriptors with SIFT\n",
    "    kp1, des1 = sift.detectAndCompute(img1, None)\n",
    "    kp2, des2 = sift.detectAndCompute(img2, None)\n",
    "\n",
    "    FLANN_INDEX_KDTREE = 1\n",
    "    index_params = dict(algorithm=FLANN_INDEX_KDTREE, trees=10)\n",
    "    search_params = dict(checks=100)\n",
    "    flann = cv.FlannBasedMatcher(index_params,search_params)\n",
    "    matches = flann.knnMatch(des1, des2, k=2)\n",
    "    good = []\n",
    "    pts1 = []\n",
    "    pts2 = []\n",
    "    # ratio test as per Lowe's paper\n",
    "    for i,(m,n) in enumerate(matches):\n",
    "        if m.distance < 0.90*n.distance:\n",
    "            good.append(m)\n",
    "            pts2.append(kp2[m.trainIdx].pt)\n",
    "            pts1.append(kp1[m.queryIdx].pt)\n",
    "        \n",
    "    pts1 = np.int32(pts1)\n",
    "    pts2 = np.int32(pts2)\n",
    "    F, mask = cv.findFundamentalMat(pts1, pts2, cv.FM_LMEDS)\n",
    "    # We select only inlier points\n",
    "    pts1 = pts1[mask.ravel()==1]\n",
    "    pts2 = pts2[mask.ravel()==1]\n",
    "    \n",
    "    return np.stack((pts1, pts2), axis=1)\n",
    "# combine feature matches\n",
    "def combine_matches(matches_a, matches_b):\n",
    "    \"\"\"Assumes that the 0'th image is the same between them.\"\"\"\n",
    "    combined_matches = []\n",
    "    for ii in range(matches_a.shape[0]):\n",
    "        ma0 = matches_a[ii, 0]\n",
    "        # Find the match in b\n",
    "        mi = np.where((matches_b[:, 0] == ma0).all(axis=1))[0]\n",
    "\n",
    "        # If a match is found, add to the array\n",
    "        if mi.size > 0:\n",
    "            ma = matches_a[ii]\n",
    "            mb = matches_b[int(mi[0])]\n",
    "            combined_matches.append(np.concatenate(\n",
    "                (ma, mb[1:]), axis=0))\n",
    "\n",
    "    return np.array(combined_matches)\n",
    "\n"
   ]
  },
  {
   "cell_type": "markdown",
   "metadata": {},
   "source": [
    "### 1.2 Model Fitting\n",
    "RANSAC-based methods randomly sample the \n",
    "matches to generate candidate models and select the model with \n",
    "the maximum number of consenting matches, which also \n",
    "defines the number of remaining models to test"
   ]
  },
  {
   "cell_type": "code",
   "execution_count": 4,
   "metadata": {},
   "outputs": [],
   "source": [
    "## RANSAC Solution\n",
    "def solve_homography(matches, base_img, img_example, rounds=100, sigma=5, s=4):  \n",
    "# You will be computing this yourself using your implementation\n",
    "# of the `solve_homography` function.\n",
    "#    H_computed = [\n",
    "#        [ 1.21083264e+00, -8.97707425e-03,  1.11129596e+00],\n",
    "#        [ 3.15219064e-03,  1.22310850e+00, -1.67420761e+00],\n",
    "#        [ 1.96243539e-05,  6.50992714e-05,  1.00000000e+00]]\n",
    "\n",
    "    A = []\n",
    "    num_rows = np.arange(len(matches))\n",
    "\n",
    "    \n",
    "    for i in num_rows:\n",
    "        A.append([matches[i][0][0], matches[i][0][1], 1, 0, 0, 0, (-1*matches[i][1][0]*matches[i][0][0]), (-1*matches[i][1][0]*matches[i][0][1]), (-1*matches[i][1][1])])\n",
    "        A.append([0, 0, 0, matches[i][0][0], matches[i][0][1], 1, (-1*matches[i][1][1]*matches[i][0][0]), (-1*matches[i][1][1]*matches[i][0][1]), (-1*matches[i][1][1])])\n",
    "        \n",
    "    num_rows = np.arange(len(A))\n",
    "    A = np.stack(A, axis=0)\n",
    "    [U, S, Vt] = np.linalg.svd(A)\n",
    "    homography = Vt[-1].reshape(3, 3)\n",
    "    \n",
    "    #visualize_computed_transform(base_img, img_example, homography, matches)\n",
    "    return homography\n",
    "\n",
    "def solve_homography_ransac(matches, img_base, img_transformed, rounds=100, sigma=5, s=4):\n",
    "    num_inliers = 0\n",
    "    best_inliers = []\n",
    "    best_H = []\n",
    "    \n",
    "    def get_inliers(matches, H, dist=sigma, chsq_thresh=5.99):\n",
    "        orig_points = np.ones((matches.shape[0], 3))\n",
    "        orig_points = np.stack(\n",
    "            (matches[:,0,0].flatten(), matches[:,0,1].flatten(), np.ones(matches.shape[0])),\n",
    "            axis=-1)\n",
    " \n",
    "        trans_points = np.matmul(H, orig_points.T).T\n",
    "        trans_points[:, 0] = trans_points[:, 0] / trans_points[:, 2]\n",
    "        trans_points[:, 1] = trans_points[:, 1] / trans_points[:, 2]\n",
    "        target_points = np.stack(\n",
    "            (matches[:,1,0].flatten(), matches[:,1,1].flatten(), np.ones(matches.shape[0])),\n",
    "            axis=-1)\n",
    "        rsq = (\n",
    "            np.abs(trans_points[:, 0] - target_points[:, 0]) ** 2 +\n",
    "            np.abs(trans_points[:, 1] - target_points[:, 1]) ** 2\n",
    "        )\n",
    "        return matches[rsq <= chsq_thresh * (dist**2)]\n",
    "\n",
    "    for _ in range(rounds):\n",
    "        ps = np.random.choice(np.arange(matches.shape[0]), size=s)\n",
    "        ms = matches[ps]\n",
    "        H = solve_homography(ms, img_base, img_transformed)\n",
    "        inliers = get_inliers(matches, H, sigma)\n",
    "        if len(inliers) > len(best_inliers):\n",
    "            best_inliers = inliers\n",
    "            best_H = H.copy()\n",
    "\n",
    "    best_H = solve_homography(best_inliers, img_base, img_transformed)\n",
    "    best_inliers = get_inliers(matches, best_H, sigma)\n",
    "\n",
    "    return best_H\n"
   ]
  },
  {
   "cell_type": "code",
   "execution_count": 5,
   "metadata": {},
   "outputs": [],
   "source": [
    "def visualize_matches(img_a, img_b, matches, ax=None):\n",
    "    if ax is None:\n",
    "        fig = plt.figure(figsize=(20,20))\n",
    "        ax = plt.gca()\n",
    "    \n",
    "    sa = img_a.shape\n",
    "    sb = img_b.shape\n",
    "    sp = 40\n",
    "    off = sa[1]+sp\n",
    "    \n",
    "    merged_imgs = np.zeros(\n",
    "        (max(sa[0], sb[0]), sa[1]+sb[1]+sp),\n",
    "        dtype=np.float)\n",
    "    merged_imgs[0:sa[0], 0:sa[1]] = img_a\n",
    "    merged_imgs[0:sb[0], sa[1]+sp:] = img_b\n",
    "    ax.imshow(merged_imgs)\n",
    "    \n",
    "    for m in matches:\n",
    "        ax.plot([m[0][0], m[1][0]+off], [m[0][1], m[1][1]], 'r', alpha=0.5)\n",
    "\n",
    "\n",
    "def get_match_colors(image_c, combined_matches):\n",
    "    colors = []\n",
    "    nm = combined_matches.shape[0]\n",
    "    for mi in range(nm):\n",
    "        m = combined_matches[mi, 0, :]\n",
    "        colors.append(image_c[m[1]-1:m[1]+2,\n",
    "                              m[0]-1:m[0]+2].sum(axis=0).sum(axis=0)/9)\n",
    "    \n",
    "    return colors\n",
    "\n",
    "def correct_affine_ambiguity(M, S):\n",
    "    Atilde = M\n",
    "    Xtilde = S\n",
    "    m = Atilde.shape[0]//2\n",
    "    Am = np.zeros((3*m, 9))\n",
    "    bm = np.zeros(3*m)\n",
    "    for mi in range(m):\n",
    "        Atl = Atilde[2*mi:2*mi+2]\n",
    "        for ri in range(3):\n",
    "            for ci in range(3):\n",
    "                Am[3*mi+0, 3*ri + ci] = Atl[0, ri] * Atl[0, ci]\n",
    "                bm[3*mi+0] = 1\n",
    "                Am[3*mi+1, 3*ri + ci] = Atl[1, ri] * Atl[1, ci]\n",
    "                bm[3*mi+1] = 1\n",
    "                Am[3*mi+2, 3*ri + ci] = Atl[0, ri] * Atl[1, ci]\n",
    "                bm[3*mi+2] = 0\n",
    "\n",
    "    CCT = np.reshape(np.linalg.lstsq(Am, bm, rcond=None)[0], (3, 3))\n",
    "        \n",
    "    # Enforce a Positive Semi-Definite Matrix\n",
    "    # (usually not necessary)\n",
    "    C = 0.5*(CCT + CCT.T)\n",
    "    w, v = np.linalg.eig(C)\n",
    "    CCT = v @ np.diag(np.abs(w)) @ np.linalg.inv(v)\n",
    "\n",
    "    C = np.linalg.cholesky(CCT)\n",
    "    \n",
    "    A = Atilde @ C\n",
    "    X = np.linalg.inv(C) @ Xtilde\n",
    "    return A, X\n",
    "\n"
   ]
  },
  {
   "cell_type": "code",
   "execution_count": 6,
   "metadata": {},
   "outputs": [],
   "source": [
    "def transform_image(image, tmat):\n",
    "    import cv2\n",
    "    return cv2.warpPerspective(\n",
    "        image, \n",
    "        np.array(tmat).astype(float), \n",
    "        dsize=(image.shape[1], image.shape[0]))\n",
    "\n",
    "def visualize_computed_transform(image_base, image_transformed, H, matches):\n",
    "    fig = plt.figure(figsize=(8, 8), dpi=150)\n",
    "    tmat = np.linalg.inv(H)\n",
    "    image_rec = transform_image(image_transformed, tmat)\n",
    "    \n",
    "    # Plotting\n",
    "    ax = plt.subplot(2, 1, 1)\n",
    "    visualize_matches(image_base, image_transformed, matches, ax)\n",
    "    plt.title('Base Images (with matches)')\n",
    "    ax = plt.subplot(2, 2, 3)\n",
    "    plt.imshow(image_rec, vmin=0, vmax=1)\n",
    "    plt.title('Reconstructed Image')\n",
    "    ax = plt.subplot(2, 2, 4)\n",
    "    plt.imshow(image_base - image_rec, vmin=-0.3, vmax=0.3, cmap='PiYG')\n",
    "    plt.title('Reconstruction Difference')"
   ]
  },
  {
   "cell_type": "code",
   "execution_count": 7,
   "metadata": {},
   "outputs": [
    {
     "data": {
      "text/plain": [
       "<matplotlib.image.AxesImage at 0x1ba07fbd1f0>"
      ]
     },
     "execution_count": 7,
     "metadata": {},
     "output_type": "execute_result"
    },
    {
     "data": {
      "image/png": "[encoded data removed]",
      "text/plain": [
       "<Figure size 432x288 with 1 Axes>"
      ]
     },
     "metadata": {
      "needs_background": "light"
     },
     "output_type": "display_data"
    },
    {
     "data": {
      "image/png": "[encoded data removed]",
      "text/plain": [
       "<Figure size 432x288 with 1 Axes>"
      ]
     },
     "metadata": {
      "needs_background": "light"
     },
     "output_type": "display_data"
    },
    {
     "data": {
      "image/png": "[encoded data removed]",
      "text/plain": [
       "<Figure size 432x288 with 1 Axes>"
      ]
     },
     "metadata": {
      "needs_background": "light"
     },
     "output_type": "display_data"
    }
   ],
   "source": [
    "test1 = load_image('./world_rotate/trans_01.png')\n",
    "fig1 = plt.figure()\n",
    "plt.imshow(test1[:, :, 0])\n",
    "\n",
    "fig2 = plt.figure()\n",
    "test2 = load_image('./world_rotate/trans_02.png')\n",
    "plt.imshow(test2[:, :, 0])\n",
    "\n",
    "fig3 = plt.figure()\n",
    "test3 = load_image('./world_rotate/trans_03.png')\n",
    "plt.imshow(test3[:, :, 0])"
   ]
  },
  {
   "cell_type": "code",
   "execution_count": 8,
   "metadata": {},
   "outputs": [
    {
     "ename": "NameError",
     "evalue": "name 'file_path_images' is not defined",
     "output_type": "error",
     "traceback": [
      "\u001b[1;31m---------------------------------------------------------------------------\u001b[0m",
      "\u001b[1;31mNameError\u001b[0m                                 Traceback (most recent call last)",
      "\u001b[1;32m<ipython-input-8-d8d36c539920>\u001b[0m in \u001b[0;36m<module>\u001b[1;34m\u001b[0m\n\u001b[0;32m      6\u001b[0m \u001b[0mI_new\u001b[0m \u001b[1;33m=\u001b[0m \u001b[1;33m[\u001b[0m\u001b[0mfile\u001b[0m \u001b[1;32mfor\u001b[0m \u001b[0mfile\u001b[0m \u001b[1;32min\u001b[0m \u001b[0mI\u001b[0m \u001b[1;32mif\u001b[0m \u001b[0mfile\u001b[0m\u001b[1;33m.\u001b[0m\u001b[0mendswith\u001b[0m\u001b[1;33m(\u001b[0m\u001b[1;34m'.png'\u001b[0m\u001b[1;33m)\u001b[0m\u001b[1;33m]\u001b[0m\u001b[1;33m\u001b[0m\u001b[1;33m\u001b[0m\u001b[0m\n\u001b[0;32m      7\u001b[0m \u001b[0mI\u001b[0m \u001b[1;33m=\u001b[0m \u001b[0msorted\u001b[0m\u001b[1;33m(\u001b[0m\u001b[0mI_new\u001b[0m\u001b[1;33m,\u001b[0m\u001b[0mkey\u001b[0m\u001b[1;33m=\u001b[0m\u001b[1;32mlambda\u001b[0m \u001b[0mx\u001b[0m\u001b[1;33m:\u001b[0m \u001b[0mint\u001b[0m\u001b[1;33m(\u001b[0m\u001b[0mos\u001b[0m\u001b[1;33m.\u001b[0m\u001b[0mpath\u001b[0m\u001b[1;33m.\u001b[0m\u001b[0msplitext\u001b[0m\u001b[1;33m(\u001b[0m\u001b[0mx\u001b[0m\u001b[1;33m)\u001b[0m\u001b[1;33m[\u001b[0m\u001b[1;36m0\u001b[0m\u001b[1;33m]\u001b[0m\u001b[1;33m.\u001b[0m\u001b[0msplit\u001b[0m\u001b[1;33m(\u001b[0m\u001b[1;34m'.'\u001b[0m\u001b[1;33m)\u001b[0m\u001b[1;33m[\u001b[0m\u001b[1;33m-\u001b[0m\u001b[1;36m1\u001b[0m\u001b[1;33m]\u001b[0m\u001b[1;33m.\u001b[0m\u001b[0msplit\u001b[0m\u001b[1;33m(\u001b[0m\u001b[1;34m'_'\u001b[0m\u001b[1;33m)\u001b[0m\u001b[1;33m[\u001b[0m\u001b[1;33m-\u001b[0m\u001b[1;36m1\u001b[0m\u001b[1;33m]\u001b[0m\u001b[1;33m)\u001b[0m\u001b[1;33m)\u001b[0m\u001b[1;33m\u001b[0m\u001b[1;33m\u001b[0m\u001b[0m\n\u001b[1;32m----> 8\u001b[1;33m \u001b[0mI_new\u001b[0m \u001b[1;33m=\u001b[0m \u001b[1;33m[\u001b[0m\u001b[1;33m(\u001b[0m\u001b[0mfile_path_images\u001b[0m \u001b[1;33m+\u001b[0m \u001b[0mq\u001b[0m\u001b[1;33m)\u001b[0m \u001b[1;32mfor\u001b[0m \u001b[0mq\u001b[0m \u001b[1;32min\u001b[0m \u001b[0mI\u001b[0m\u001b[1;33m]\u001b[0m\u001b[1;33m\u001b[0m\u001b[1;33m\u001b[0m\u001b[0m\n\u001b[0m\u001b[0;32m      9\u001b[0m \u001b[1;32mfor\u001b[0m \u001b[0mi\u001b[0m \u001b[1;32min\u001b[0m \u001b[0mrange\u001b[0m\u001b[1;33m(\u001b[0m\u001b[1;36m0\u001b[0m\u001b[1;33m,\u001b[0m\u001b[1;33m(\u001b[0m\u001b[0mlen\u001b[0m\u001b[1;33m(\u001b[0m\u001b[0mI_new\u001b[0m\u001b[1;33m)\u001b[0m\u001b[1;33m-\u001b[0m\u001b[1;36m3\u001b[0m\u001b[1;33m)\u001b[0m\u001b[1;33m)\u001b[0m\u001b[1;33m:\u001b[0m\u001b[1;33m\u001b[0m\u001b[1;33m\u001b[0m\u001b[0m\n\u001b[0;32m     10\u001b[0m     \u001b[0mtest1\u001b[0m \u001b[1;33m=\u001b[0m \u001b[0mcv\u001b[0m\u001b[1;33m.\u001b[0m\u001b[0mimread\u001b[0m\u001b[1;33m(\u001b[0m\u001b[0mI_new\u001b[0m\u001b[1;33m[\u001b[0m\u001b[0mi\u001b[0m\u001b[1;33m]\u001b[0m\u001b[1;33m)\u001b[0m\u001b[1;33m\u001b[0m\u001b[1;33m\u001b[0m\u001b[0m\n",
      "\u001b[1;32m<ipython-input-8-d8d36c539920>\u001b[0m in \u001b[0;36m<listcomp>\u001b[1;34m(.0)\u001b[0m\n\u001b[0;32m      6\u001b[0m \u001b[0mI_new\u001b[0m \u001b[1;33m=\u001b[0m \u001b[1;33m[\u001b[0m\u001b[0mfile\u001b[0m \u001b[1;32mfor\u001b[0m \u001b[0mfile\u001b[0m \u001b[1;32min\u001b[0m \u001b[0mI\u001b[0m \u001b[1;32mif\u001b[0m \u001b[0mfile\u001b[0m\u001b[1;33m.\u001b[0m\u001b[0mendswith\u001b[0m\u001b[1;33m(\u001b[0m\u001b[1;34m'.png'\u001b[0m\u001b[1;33m)\u001b[0m\u001b[1;33m]\u001b[0m\u001b[1;33m\u001b[0m\u001b[1;33m\u001b[0m\u001b[0m\n\u001b[0;32m      7\u001b[0m \u001b[0mI\u001b[0m \u001b[1;33m=\u001b[0m \u001b[0msorted\u001b[0m\u001b[1;33m(\u001b[0m\u001b[0mI_new\u001b[0m\u001b[1;33m,\u001b[0m\u001b[0mkey\u001b[0m\u001b[1;33m=\u001b[0m\u001b[1;32mlambda\u001b[0m \u001b[0mx\u001b[0m\u001b[1;33m:\u001b[0m \u001b[0mint\u001b[0m\u001b[1;33m(\u001b[0m\u001b[0mos\u001b[0m\u001b[1;33m.\u001b[0m\u001b[0mpath\u001b[0m\u001b[1;33m.\u001b[0m\u001b[0msplitext\u001b[0m\u001b[1;33m(\u001b[0m\u001b[0mx\u001b[0m\u001b[1;33m)\u001b[0m\u001b[1;33m[\u001b[0m\u001b[1;36m0\u001b[0m\u001b[1;33m]\u001b[0m\u001b[1;33m.\u001b[0m\u001b[0msplit\u001b[0m\u001b[1;33m(\u001b[0m\u001b[1;34m'.'\u001b[0m\u001b[1;33m)\u001b[0m\u001b[1;33m[\u001b[0m\u001b[1;33m-\u001b[0m\u001b[1;36m1\u001b[0m\u001b[1;33m]\u001b[0m\u001b[1;33m.\u001b[0m\u001b[0msplit\u001b[0m\u001b[1;33m(\u001b[0m\u001b[1;34m'_'\u001b[0m\u001b[1;33m)\u001b[0m\u001b[1;33m[\u001b[0m\u001b[1;33m-\u001b[0m\u001b[1;36m1\u001b[0m\u001b[1;33m]\u001b[0m\u001b[1;33m)\u001b[0m\u001b[1;33m)\u001b[0m\u001b[1;33m\u001b[0m\u001b[1;33m\u001b[0m\u001b[0m\n\u001b[1;32m----> 8\u001b[1;33m \u001b[0mI_new\u001b[0m \u001b[1;33m=\u001b[0m \u001b[1;33m[\u001b[0m\u001b[1;33m(\u001b[0m\u001b[0mfile_path_images\u001b[0m \u001b[1;33m+\u001b[0m \u001b[0mq\u001b[0m\u001b[1;33m)\u001b[0m \u001b[1;32mfor\u001b[0m \u001b[0mq\u001b[0m \u001b[1;32min\u001b[0m \u001b[0mI\u001b[0m\u001b[1;33m]\u001b[0m\u001b[1;33m\u001b[0m\u001b[1;33m\u001b[0m\u001b[0m\n\u001b[0m\u001b[0;32m      9\u001b[0m \u001b[1;32mfor\u001b[0m \u001b[0mi\u001b[0m \u001b[1;32min\u001b[0m \u001b[0mrange\u001b[0m\u001b[1;33m(\u001b[0m\u001b[1;36m0\u001b[0m\u001b[1;33m,\u001b[0m\u001b[1;33m(\u001b[0m\u001b[0mlen\u001b[0m\u001b[1;33m(\u001b[0m\u001b[0mI_new\u001b[0m\u001b[1;33m)\u001b[0m\u001b[1;33m-\u001b[0m\u001b[1;36m3\u001b[0m\u001b[1;33m)\u001b[0m\u001b[1;33m)\u001b[0m\u001b[1;33m:\u001b[0m\u001b[1;33m\u001b[0m\u001b[1;33m\u001b[0m\u001b[0m\n\u001b[0;32m     10\u001b[0m     \u001b[0mtest1\u001b[0m \u001b[1;33m=\u001b[0m \u001b[0mcv\u001b[0m\u001b[1;33m.\u001b[0m\u001b[0mimread\u001b[0m\u001b[1;33m(\u001b[0m\u001b[0mI_new\u001b[0m\u001b[1;33m[\u001b[0m\u001b[0mi\u001b[0m\u001b[1;33m]\u001b[0m\u001b[1;33m)\u001b[0m\u001b[1;33m\u001b[0m\u001b[1;33m\u001b[0m\u001b[0m\n",
      "\u001b[1;31mNameError\u001b[0m: name 'file_path_images' is not defined"
     ]
    }
   ],
   "source": [
    "test1 = cv.imread('./world_rotate/trans_01.png',0)\n",
    "test2 = cv.imread('./world_rotate/trans_02.png',0)\n",
    "test3 = cv.imread('./world_rotate/trans_03.png',0)\n",
    "\n",
    "matches1 = get_point_matches(test1, test2)\n",
    "matches2 = get_point_matches(test1, test3)\n",
    "#matches2 = get_point_matches(test1[:, :, 0], test2[:, :, 0])\n",
    "\n",
    "# combined_matches = N x M x 2 matrix. N = num feautres, M = num Images, 2 = x y coords\n",
    "combined_matches = combine_matches(matches1, matches2) \n",
    "colors = get_match_colors(load_image('./world_rotate/trans_01.png'), combined_matches)\n",
    "#the features have been matched between the 3 images now.\n",
    "#print(combined_matches.shape)\n",
    "centers = np.mean(combined_matches, axis=0)\n",
    "matches_norm = combined_matches - centers #centered points for each image\n",
    "f_points, im_num, f_coords = matches_norm.shape # feature points x image , x coords\n",
    "\n",
    "D = np.zeros((6,f_points))\n",
    "for i in range(0,f_points):\n",
    "    D[0][i] = matches_norm[i][0][0]\n",
    "    D[1][i] = matches_norm[i][0][1]\n",
    "    D[2][i] = matches_norm[i][1][0]\n",
    "    D[3][i] = matches_norm[i][1][1]\n",
    "    D[4][i] = matches_norm[i][2][0]\n",
    "    D[5][i] = matches_norm[i][2][1]\n",
    "\n",
    "[U,S,V] = np.linalg.svd(D) #U.shape = (M,N,N) #s.shape = (m,2) #v.shape = (v,2,2)\n",
    "true_s = np.zeros((U.shape[1], V.shape[0]))\n",
    "true_s[:S.size, :S.size] = np.diag(S)\n",
    "np.allclose(U.dot(true_s).dot(V), D)\n",
    "#ux,uy,uz = U.shape\n",
    "U_3col = np.zeros((U.shape[1],3)) # 2m x n matrix of 0s\n",
    "for i in range(U.shape[0]):\n",
    "    U_3col[i][0] = U[i][0]\n",
    "    U_3col[i][1] = U[i][1]\n",
    "    U_3col[i][2] = U[i][2]\n",
    "U = U_3col\n",
    "W = np.zeros((3,3))\n",
    "for i in range(0,3):\n",
    "    for j in range(0,3):\n",
    "        W[i][j] = true_s[i][j]\n",
    "V_3row = np.zeros((3,V.shape[0])) # v = N\n",
    "V_3row[0] = V[0]\n",
    "V_3row[1] = V[1]\n",
    "V_3row[2] = V[2]\n",
    "V = V_3row\n",
    "\n",
    "M = U@np.sqrt(W)\n",
    "S = np.sqrt(W) @ V\n",
    "def reproject_image_points(A, X, centers):  \n",
    "    #print(f'X matrix: {X}')\n",
    "    mtx = A @ X\n",
    "    new_matrix = np.zeros((mtx.shape[1],int(mtx.shape[0]/2),2))\n",
    "\n",
    "\n",
    "    for j in range(mtx.shape[1]):\n",
    "        new_matrix[j][0] = [mtx[0][j]+centers[0][0],mtx[1][j]+centers[0][1]]\n",
    "        new_matrix[j][1] = [mtx[2][j]+centers[1][0],mtx[3][j]+centers[1][1]]\n",
    "        new_matrix[j][2] = [mtx[4][j]+centers[2][0],mtx[5][j]+centers[2][1]]\n",
    "\n",
    "            #new_matrix[i][j] = [mtx[]]\n",
    "\n",
    "    return new_matrix\n",
    "\n",
    "A, X = correct_affine_ambiguity(M, S)\n",
    "reprojected_image_points = reproject_image_points(A, X, centers)\n",
    "\n",
    "plt.figure(figsize=(8, 8), dpi=150)\n",
    "stacked_images = (test1, test2, test3)\n",
    "num_images = len(stacked_images)\n",
    "for ii in range(num_images):\n",
    "    plt.subplot(2, 2, ii+1)\n",
    "    plt.imshow(stacked_images[ii], cmap='gray')\n",
    "    plt.plot(combined_matches[:, ii, 0],\n",
    "             combined_matches[:, ii, 1],\n",
    "             '.')\n",
    "    plt.plot(reprojected_image_points[:, ii, 0],\n",
    "             reprojected_image_points[:, ii, 1],\n",
    "             'ro', markerfacecolor='none')\n",
    "\n",
    "np.save(\"points.npy\", X)\n",
    "np.save(\"colors.npy\", colors)\n"
   ]
  },
  {
   "cell_type": "code",
   "execution_count": null,
   "metadata": {},
   "outputs": [],
   "source": [
    "import matplotlib.pyplot as plt\n",
    "import numpy as np\n",
    "from mpl_toolkits.mplot3d import Axes3D\n",
    "\n",
    "X = np.load(\"points.npy\")\n",
    "colors = np.load(\"colors.npy\")\n",
    "colors = np.true_divide(colors,255) # convert values to between 0 and 1\n",
    "print(colors.shape)\n",
    "\n",
    "fig = plt.figure()\n",
    "ax = fig.add_subplot(111, projection='3d')\n",
    "\n",
    "ax.scatter(X[0, :], X[1, :], X[2, :], c=colors)\n",
    "ax.set_xlim3d([-750, 750])\n",
    "ax.set_ylim3d([-750, 750])\n",
    "ax.set_zlim3d([-750, 750])\n",
    "plt.show()"
   ]
  },
  {
   "cell_type": "code",
   "execution_count": null,
   "metadata": {},
   "outputs": [],
   "source": [
    "visualize_matches(test1[:, :, 0], test2[:, :, 0], matches1)"
   ]
  },
  {
   "cell_type": "code",
   "execution_count": null,
   "metadata": {},
   "outputs": [],
   "source": [
    "#combined_matches = combine_matches(matches1, matches2)"
   ]
  },
  {
   "cell_type": "code",
   "execution_count": null,
   "metadata": {},
   "outputs": [],
   "source": [
    "matches1[:,0,0].flatten().shape"
   ]
  },
  {
   "cell_type": "code",
   "execution_count": null,
   "metadata": {},
   "outputs": [],
   "source": [
    "matches1.shape[0]"
   ]
  },
  {
   "cell_type": "code",
   "execution_count": null,
   "metadata": {},
   "outputs": [],
   "source": [
    "h_graph = solve_homography_ransac(matches1, test1[:,:,0], test2[:,:,0], rounds=100, sigma=5, s=4)"
   ]
  },
  {
   "cell_type": "code",
   "execution_count": null,
   "metadata": {},
   "outputs": [],
   "source": [
    "def visualize_computed_transform(image_base, image_transformed, H, matches):\n",
    "    fig = plt.figure(figsize=(8, 8), dpi=150)\n",
    "    tmat = np.linalg.inv(H)\n",
    "    image_rec = transform_image(image_transformed, tmat)\n",
    "    \n",
    "    # Plotting\n",
    "    ax = plt.subplot(2, 1, 1)\n",
    "    visualize_matches(image_base, image_transformed, matches, ax)\n",
    "    plt.title('Base Images (with matches)')\n",
    "    ax = plt.subplot(2, 2, 3)\n",
    "    plt.imshow(image_rec, vmin=0, vmax=1)\n",
    "    plt.title('Reconstructed Image')\n",
    "    ax = plt.subplot(2, 2, 4)\n",
    "    plt.imshow(image_base - image_rec, vmin=-0.3, vmax=0.3, cmap='PiYG')\n",
    "    plt.title('Reconstruction Difference')\n",
    "\n"
   ]
  },
  {
   "cell_type": "code",
   "execution_count": null,
   "metadata": {},
   "outputs": [],
   "source": [
    "#np_matches = np.array([[fa.x, fa.y, fb.x, fb.y] for fa, fb in matches])\n",
    "visualize_computed_transform(test1[:,:,0], test2[:,:,0], h_graph, matches1)"
   ]
  },
  {
   "cell_type": "code",
   "execution_count": null,
   "metadata": {},
   "outputs": [],
   "source": []
  }
 ],
 "metadata": {
  "kernelspec": {
   "display_name": "Python 3",
   "language": "python",
   "name": "python3"
  },
  "language_info": {
   "codemirror_mode": {
    "name": "ipython",
    "version": 3
   },
   "file_extension": ".py",
   "mimetype": "text/x-python",
   "name": "python",
   "nbconvert_exporter": "python",
   "pygments_lexer": "ipython3",
   "version": "3.8.5"
  }
 },
 "nbformat": 4,
 "nbformat_minor": 4
}

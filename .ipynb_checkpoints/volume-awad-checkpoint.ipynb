{
 "cells": [
  {
   "cell_type": "code",
   "execution_count": null,
   "metadata": {},
   "outputs": [
    {
     "name": "stdout",
     "output_type": "stream",
     "text": [
      "(1080, 1920)\n",
      "-46.5\n",
      "(4, 1751377)\n",
      "(1080, 1920)\n"
     ]
    },
    {
     "ename": "KeyboardInterrupt",
     "evalue": "",
     "output_type": "error",
     "traceback": [
      "\u001b[1;31m---------------------------------------------------------------------------\u001b[0m",
      "\u001b[1;31mKeyboardInterrupt\u001b[0m                         Traceback (most recent call last)",
      "\u001b[1;32m<ipython-input-25-cacc69fcc609>\u001b[0m in \u001b[0;36m<module>\u001b[1;34m\u001b[0m\n\u001b[0;32m     65\u001b[0m \u001b[0mcloud_pts\u001b[0m \u001b[1;33m=\u001b[0m \u001b[1;33m[\u001b[0m\u001b[1;33m]\u001b[0m\u001b[1;33m\u001b[0m\u001b[1;33m\u001b[0m\u001b[0m\n\u001b[0;32m     66\u001b[0m \u001b[1;32mfor\u001b[0m \u001b[0mi\u001b[0m\u001b[1;33m,\u001b[0m\u001b[0mfile\u001b[0m \u001b[1;32min\u001b[0m \u001b[0menumerate\u001b[0m\u001b[1;33m(\u001b[0m\u001b[0mfilelist\u001b[0m\u001b[1;33m)\u001b[0m\u001b[1;33m:\u001b[0m\u001b[1;33m\u001b[0m\u001b[1;33m\u001b[0m\u001b[0m\n\u001b[1;32m---> 67\u001b[1;33m     \u001b[0mpts\u001b[0m \u001b[1;33m=\u001b[0m \u001b[0mdepthmap_to_pointcloud\u001b[0m\u001b[1;33m(\u001b[0m\u001b[0mfile\u001b[0m\u001b[1;33m,\u001b[0m\u001b[1;36m.05\u001b[0m\u001b[1;33m)\u001b[0m\u001b[1;33m\u001b[0m\u001b[1;33m\u001b[0m\u001b[0m\n\u001b[0m\u001b[0;32m     68\u001b[0m     \u001b[0mprint\u001b[0m\u001b[1;33m(\u001b[0m\u001b[1;34mf'{pts[0][30]}'\u001b[0m\u001b[1;33m)\u001b[0m\u001b[1;33m\u001b[0m\u001b[1;33m\u001b[0m\u001b[0m\n\u001b[0;32m     69\u001b[0m     \u001b[0mpts\u001b[0m \u001b[1;33m=\u001b[0m \u001b[0mrotate_pointcloud\u001b[0m\u001b[1;33m(\u001b[0m\u001b[0mpts\u001b[0m\u001b[1;33m,\u001b[0m\u001b[0mi\u001b[0m\u001b[1;33m*\u001b[0m\u001b[1;36m15\u001b[0m\u001b[1;33m)\u001b[0m\u001b[1;33m\u001b[0m\u001b[1;33m\u001b[0m\u001b[0m\n",
      "\u001b[1;32m<ipython-input-25-cacc69fcc609>\u001b[0m in \u001b[0;36mdepthmap_to_pointcloud\u001b[1;34m(path, fc)\u001b[0m\n\u001b[0;32m     29\u001b[0m             \u001b[1;32mif\u001b[0m\u001b[1;33m(\u001b[0m\u001b[0mZ\u001b[0m \u001b[1;33m==\u001b[0m \u001b[1;36m206\u001b[0m\u001b[1;33m)\u001b[0m\u001b[1;33m:\u001b[0m\u001b[1;33m\u001b[0m\u001b[1;33m\u001b[0m\u001b[0m\n\u001b[0;32m     30\u001b[0m                 \u001b[0mX\u001b[0m \u001b[1;33m=\u001b[0m \u001b[1;33m(\u001b[0m\u001b[0mv\u001b[0m \u001b[1;33m-\u001b[0m \u001b[0mx_center\u001b[0m\u001b[1;33m)\u001b[0m \u001b[1;33m*\u001b[0m \u001b[0mdepth_map\u001b[0m\u001b[1;33m[\u001b[0m\u001b[0mu\u001b[0m\u001b[1;33m]\u001b[0m\u001b[1;33m[\u001b[0m\u001b[0mv\u001b[0m\u001b[1;33m]\u001b[0m \u001b[1;33m/\u001b[0m \u001b[1;33m(\u001b[0m\u001b[0mdepth_map\u001b[0m\u001b[1;33m[\u001b[0m\u001b[0mu\u001b[0m\u001b[1;33m]\u001b[0m\u001b[1;33m[\u001b[0m\u001b[0mv\u001b[0m\u001b[1;33m]\u001b[0m \u001b[1;33m/\u001b[0m \u001b[0mfoc_l\u001b[0m\u001b[1;33m)\u001b[0m\u001b[1;33m\u001b[0m\u001b[1;33m\u001b[0m\u001b[0m\n\u001b[1;32m---> 31\u001b[1;33m                 \u001b[0mY\u001b[0m \u001b[1;33m=\u001b[0m \u001b[1;33m(\u001b[0m\u001b[0mu\u001b[0m \u001b[1;33m-\u001b[0m \u001b[0my_center\u001b[0m\u001b[1;33m)\u001b[0m \u001b[1;33m*\u001b[0m \u001b[0mdepth_map\u001b[0m\u001b[1;33m[\u001b[0m\u001b[0mu\u001b[0m\u001b[1;33m]\u001b[0m\u001b[1;33m[\u001b[0m\u001b[0mv\u001b[0m\u001b[1;33m]\u001b[0m \u001b[1;33m/\u001b[0m \u001b[1;33m(\u001b[0m\u001b[0mdepth_map\u001b[0m\u001b[1;33m[\u001b[0m\u001b[0mu\u001b[0m\u001b[1;33m]\u001b[0m\u001b[1;33m[\u001b[0m\u001b[0mv\u001b[0m\u001b[1;33m]\u001b[0m \u001b[1;33m/\u001b[0m \u001b[0mfoc_l\u001b[0m\u001b[1;33m)\u001b[0m\u001b[1;33m\u001b[0m\u001b[1;33m\u001b[0m\u001b[0m\n\u001b[0m\u001b[0;32m     32\u001b[0m \u001b[1;33m\u001b[0m\u001b[0m\n\u001b[0;32m     33\u001b[0m                 \u001b[1;32mif\u001b[0m \u001b[0mmath\u001b[0m\u001b[1;33m.\u001b[0m\u001b[0misnan\u001b[0m\u001b[1;33m(\u001b[0m\u001b[0mX\u001b[0m\u001b[1;33m)\u001b[0m \u001b[1;33m!=\u001b[0m \u001b[1;32mTrue\u001b[0m\u001b[1;33m:\u001b[0m\u001b[1;33m\u001b[0m\u001b[1;33m\u001b[0m\u001b[0m\n",
      "\u001b[1;31mKeyboardInterrupt\u001b[0m: "
     ]
    }
   ],
   "source": [
    "# Starter code (run this first)\n",
    "import cv2 as cv\n",
    "import matplotlib.pyplot as plt\n",
    "import numpy as np\n",
    "from PIL import Image, ImageOps\n",
    "from scipy.spatial.transform import Rotation as R\n",
    "from math import pi ,sin, cos\n",
    "import math\n",
    "\n",
    "\n",
    "def depthmap_to_pointcloud(path,fc):\n",
    "    #depth_map = cv.imread('./world_rotate/depthmap.png',0)\n",
    "    depth_map = cv.imread(path,0)\n",
    "    print(depth_map.shape)\n",
    "\n",
    "    pt_cloud = []\n",
    "    x_center = round(width / 2)\n",
    "    y_center = round(height / 2)\n",
    "    foc_l = fc\n",
    "    X_s = []\n",
    "    Z_s = []\n",
    "    Y_s = []\n",
    "    \n",
    "    \n",
    "    for u in range(0,height):\n",
    "        for v in range(0,width):\n",
    "            \n",
    "            Z = depth_map[u][v]\n",
    "            if(Z == 206):\n",
    "                X = (v - x_center) * depth_map[u][v] / (depth_map[u][v] / foc_l)\n",
    "                Y = (u - y_center) * depth_map[u][v] / (depth_map[u][v] / foc_l)\n",
    "            \n",
    "                if math.isnan(X) != True:\n",
    "                    if math.isnan(Y) != True:\n",
    "                        if math.isnan(Z) != True:\n",
    "                            X_s.append(X)\n",
    "                            Y_s.append(Y)\n",
    "                            Z_s.append(Z)\n",
    "\n",
    "    return np.vstack((X_s,Z_s,Y_s))\n",
    "\n",
    "#pass in thera\n",
    "#pts is a 3xn array\n",
    "def rotate_pointcloud(pts, theta):\n",
    "    n,m = pts.shape\n",
    "    pts = np.vstack((pts, np.ones((1,m)))) # add a 1s array on the bottom to make it 4xN ptclod array\n",
    "    print(pts.shape)\n",
    "    r = theta * np.pi/180 # rotation matrix\n",
    "    r_matrix = np.matrix(f'{np.cos(r)} {-np.sin(r)} 0 0; {np.sin(r)} {np.cos(r)} 0 0; 0 0 1 0; 0 0 0 1')\n",
    "    pts = r_matrix @ pts\n",
    "    pts = np.array(pts)\n",
    "    return pts\n",
    "    \n",
    "    \n",
    "fig2 = plt.figure()\n",
    "ax = plt.axes(projection='3d')\n",
    "\n",
    "filelist = ['./world_rotate/cube_01.png', './world_rotate/cube_02.png',\n",
    "            './world_rotate/cube_03.png', './world_rotate/cube_04.png',\n",
    "            './world_rotate/cube_05.png', './world_rotate/cube_06.png',\n",
    "            './world_rotate/cube_07.png', './world_rotate/cube_08.png',\n",
    "            './world_rotate/cube_08.png', './world_rotate/cube_10.png',\n",
    "            './world_rotate/cube_11.png', './world_rotate/cube_12.png']\n",
    "\n",
    "cloud_pts = []\n",
    "for i,file in enumerate(filelist):\n",
    "    pts = depthmap_to_pointcloud(file,.05)\n",
    "    print(f'{pts[0][30]}')\n",
    "    pts = rotate_pointcloud(pts,i*-15)\n",
    "    ax.scatter3D(pts[0],pts[1],pts[2],c=pts[2],cmap='turbo')\n",
    "    cloud_pts.append(pts)\n",
    "plt.show()"
   ]
  },
  {
   "cell_type": "code",
   "execution_count": 23,
   "metadata": {},
   "outputs": [
    {
     "data": {
      "image/png": "[encoded data removed]",
      "text/plain": [
       "<Figure size 432x288 with 1 Axes>"
      ]
     },
     "metadata": {
      "needs_background": "light"
     },
     "output_type": "display_data"
    }
   ],
   "source": [
    "test = cv.imread('./world_rotate/cube_01.png',0)\n",
    "height, width = test.shape\n",
    "mask_bone = depth_map != 206\n",
    "test = np.where(mask_bone, depth_map, 0)\n",
    "\n",
    "fig = plt.figure()\n",
    "plt.imshow(test)\n",
    "plt.show()"
   ]
  },
  {
   "cell_type": "code",
   "execution_count": null,
   "metadata": {},
   "outputs": [],
   "source": [
    "import pyvista as pv\n",
    "\n",
    "# points is a 3D numpy array (n_points, 3) coordinates of a sphere\n",
    "cloud = pv.PolyData(points)\n",
    "cloud.plot()\n",
    "\n",
    "volume = cloud.delaunay_3d(alpha=2.)\n",
    "shell = volume.extract_geometry()\n",
    "shell.plot()"
   ]
  },
  {
   "cell_type": "markdown",
   "metadata": {},
   "source": [
    "subroutine triangulate\n",
    "input : vertex list\n",
    "output : triangle list\n",
    "   initialize the triangle list\n",
    "   determine the supertriangle\n",
    "   add supertriangle vertices to the end of the vertex list\n",
    "   add the supertriangle to the triangle list\n",
    "   for each sample point in the vertex list\n",
    "      initialize the edge buffer\n",
    "      for each triangle currently in the triangle list\n",
    "         calculate the triangle circumcircle center and radius\n",
    "         if the point lies in the triangle circumcircle then\n",
    "            add the three triangle edges to the edge buffer\n",
    "            remove the triangle from the triangle list\n",
    "         endif\n",
    "      endfor\n",
    "      delete all doubly specified edges from the edge buffer\n",
    "         this leaves the edges of the enclosing polygon only\n",
    "      add to the triangle list all triangles formed between the point \n",
    "         and the edges of the enclosing polygon\n",
    "   endfor\n",
    "   remove any triangles from the triangle list that use the supertriangle vertices\n",
    "   remove the supertriangle vertices from the vertex list\n",
    "end\n",
    " Suppose an edge e in E , if e meets the following conditions, it is called a Delaunay side:"
   ]
  },
  {
   "cell_type": "code",
   "execution_count": null,
   "metadata": {},
   "outputs": [],
   "source": [
    "def triangulate(pt_cloud):\n",
    "    triangle_list = []\n",
    "    super_triangle_vertices = getSuperTriangle(pt_cloud)\n",
    "    pt_cloud = pt_cloud.append([super_triangle_vertices])\n",
    "    triangle_list = triangle_list.append([super_triangle_vertices])\n",
    "    for i,pt in enumerate(pt_cloud):"
   ]
  }
 ],
 "metadata": {
  "kernelspec": {
   "display_name": "Python 3",
   "language": "python",
   "name": "python3"
  },
  "language_info": {
   "codemirror_mode": {
    "name": "ipython",
    "version": 3
   },
   "file_extension": ".py",
   "mimetype": "text/x-python",
   "name": "python",
   "nbconvert_exporter": "python",
   "pygments_lexer": "ipython3",
   "version": "3.8.5"
  }
 },
 "nbformat": 4,
 "nbformat_minor": 4
}
